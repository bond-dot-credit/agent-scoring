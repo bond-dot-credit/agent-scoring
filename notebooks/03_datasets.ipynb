{
 "cells": [
  {
   "cell_type": "markdown",
   "id": "de220f76",
   "metadata": {},
   "source": [
    "### 1. Load the price data"
   ]
  },
  {
   "cell_type": "code",
   "execution_count": null,
   "id": "39289dc6",
   "metadata": {},
   "outputs": [],
   "source": [
    "import pandas as pd\n",
    "\n",
    "# Load the price data\n",
    "prices_df = pd.read_parquet('/Users/olaoluwatunmise/stablecoin_vaults/database/vault-prices.parquet')\n",
    "print(f\"Loaded {len(prices_df)} price records\")\n",
    "print(prices_df.head())"
   ]
  },
  {
   "cell_type": "code",
   "execution_count": null,
   "id": "1b06509d",
   "metadata": {},
   "outputs": [],
   "source": []
  }
 ],
 "metadata": {
  "language_info": {
   "name": "python"
  }
 },
 "nbformat": 4,
 "nbformat_minor": 5
}

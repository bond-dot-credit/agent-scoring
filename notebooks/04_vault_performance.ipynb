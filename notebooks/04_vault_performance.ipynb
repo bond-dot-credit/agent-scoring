{
 "cells": [
  {
   "cell_type": "markdown",
   "id": "4933010e",
   "metadata": {},
   "source": [
    "# ERC-4626: examine vault historical performance"
   ]
  },
  {
   "cell_type": "markdown",
   "id": "9ab2e930",
   "metadata": {},
   "source": [
    "## Setup"
   ]
  },
  {
   "cell_type": "code",
   "execution_count": null,
   "id": "3b6c7972",
   "metadata": {},
   "outputs": [],
   "source": [
    "import pandas as pd\n",
    "from plotly.offline import init_notebook_mode\n",
    "import plotly.io as pio\n",
    "\n",
    "from eth_defi.vault.base import VaultSpec\n",
    "\n",
    "pd.options.display.float_format = \"{:,.2f}\".format\n",
    "pd.options.display.max_columns = None\n",
    "pd.options.display.max_rows = None\n",
    "\n",
    "\n",
    "# Set up Plotly chart output as SVG\n",
    "image_format = \"png\"\n",
    "width = 1400\n",
    "height = 800\n",
    "\n",
    "# https://stackoverflow.com/a/52956402/315168\n",
    "init_notebook_mode()\n",
    "\n",
    "# https://stackoverflow.com/a/74609837/315168\n",
    "assert hasattr(pio, \"kaleido\"), \"Kaleido rendering backend missing. Run 'pip install kaleido' needed for this notebook\"\n",
    "pio.defaults.default_format = image_format\n",
    "\n",
    "# https://plotly.com/python/renderers/#overriding-the-default-renderer\n",
    "pio.renderers.default = image_format\n",
    "\n",
    "current_renderer = pio.renderers[image_format]\n",
    "# Have SVGs default pixel with\n",
    "current_renderer.width = width\n",
    "current_renderer.height = height"
   ]
  }
 ],
 "metadata": {
  "language_info": {
   "name": "python"
  }
 },
 "nbformat": 4,
 "nbformat_minor": 5
}

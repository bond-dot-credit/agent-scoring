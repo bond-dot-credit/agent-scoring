{
 "cells": [
  {
   "cell_type": "markdown",
   "id": "ee4b01ac",
   "metadata": {},
   "source": [
    "# ERC-4626: scanning historical price and performance of vaults"
   ]
  },
  {
   "cell_type": "code",
   "execution_count": 1,
   "id": "28f2ed03",
   "metadata": {},
   "outputs": [],
   "source": [
    "import os\n",
    "\n",
    "os.environ[\"JSON_RPC_URL\"] = \"https://mainnet.infura.io/v3/6ec2c1604e2d477f9c9f7ea52aa8e0f3\""
   ]
  },
  {
   "cell_type": "code",
   "execution_count": 2,
   "id": "7194f1eb",
   "metadata": {},
   "outputs": [
    {
     "name": "stdout",
     "output_type": "stream",
     "text": [
      "Scanning vault historical prices on chain 1: Ethereum\n",
      "Chain Ethereum has 100 vaults in the vault detection database\n",
      "After filtering vaults for non-interesting entries, we have 10 vaults left\n"
     ]
    },
    {
     "data": {
      "application/vnd.jupyter.widget-view+json": {
       "model_id": "7d93180eb107463dbd389daa58bacb91",
       "version_major": 2,
       "version_minor": 0
      },
      "text/plain": [
       "Loading token metadata for 10 addresses using 8 workers:   0%|          | 0/1 [00:00<?, ?it/s]"
      ]
     },
     "metadata": {},
     "output_type": "display_data"
    },
    {
     "data": {
      "application/vnd.jupyter.widget-view+json": {
       "model_id": "16c401414b58489fb633deae706646e1",
       "version_major": 2,
       "version_minor": 0
      },
      "text/plain": [
       "Preparing historical multicalls for 10 readers using 1 workers:   0%|          | 0/10 [00:00<?, ? readers/s]"
      ]
     },
     "metadata": {},
     "output_type": "display_data"
    },
    {
     "data": {
      "application/vnd.jupyter.widget-view+json": {
       "model_id": "b41612d114c64e54a088a91ad122c75f",
       "version_major": 2,
       "version_minor": 0
      },
      "text/plain": [
       "Reading historical vault price data for chain 1 with 1 workers, blocks 14,521,099 - 22,931,011:   0%|         …"
      ]
     },
     "metadata": {},
     "output_type": "display_data"
    },
    {
     "name": "stderr",
     "output_type": "stream",
     "text": [
      "/Users/olaoluwatunmise/stablecoin_vaults/vaults/lib/python3.10/site-packages/joblib/parallel.py:1383: UserWarning: The backend class 'SequentialBackend' does not support timeout. You have set 'timeout=1800' in Parallel but the 'timeout' parameter will not be used.\n",
      "  warnings.warn(\n"
     ]
    },
    {
     "name": "stdout",
     "output_type": "stream",
     "text": [
      "Token cache size is 90,112 bytes, 279 tokens\n",
      "Scan complete\n",
      "{'chain_id': 1,\n",
      " 'chunks_done': 359,\n",
      " 'existing': True,\n",
      " 'existing_row_count': 0,\n",
      " 'file_size': 976002,\n",
      " 'output_fname': PosixPath('/Users/olaoluwatunmise/stablecoin_vaults/database/vault-prices.parquet'),\n",
      " 'rows_deleted': 11439,\n",
      " 'rows_written': 11469}\n"
     ]
    }
   ],
   "source": [
    "\"\"\"Scan historical vault share prices and fees.\n",
    "\n",
    "- Scan prices for all vaults discovered earlier with ``scan-vaults.py``\n",
    "- Write results to the Parquet file that is shared across all chains\n",
    "\n",
    "Usage:\n",
    "\n",
    ".. code-block:: shell\n",
    "\n",
    "    export JSON_RPC_URL=...\n",
    "    python scripts/erc-4626/scan-prices.py\n",
    "\n",
    "Or for faster small sample scan limit the end block:\n",
    "\n",
    "    END_BLOCK=5555721 python scripts/erc-4626/scan-prices.py\n",
    "\n",
    "\"\"\"\n",
    "\n",
    "import logging\n",
    "import os\n",
    "import pickle\n",
    "import sys\n",
    "from pathlib import Path\n",
    "from pprint import pformat\n",
    "from urllib.parse import urlparse\n",
    "\n",
    "from eth_defi.chain import get_chain_name\n",
    "from eth_defi.erc_4626.classification import create_vault_instance\n",
    "from eth_defi.erc_4626.core import ERC4262VaultDetection\n",
    "from eth_defi.provider.multi_provider import create_multi_provider_web3, MultiProviderWeb3Factory\n",
    "from eth_defi.token import TokenDiskCache\n",
    "from eth_defi.utils import setup_console_logging\n",
    "from eth_defi.vault.historical import scan_historical_prices_to_parquet\n",
    "\n",
    "logger = logging.getLogger(__name__)\n",
    "\n",
    "# Read JSON_RPC_CONFIGURATION from the environment\n",
    "JSON_RPC_URL = os.environ.get(\"JSON_RPC_URL\")\n",
    "if JSON_RPC_URL is None:\n",
    "    try:\n",
    "        urlparse(JSON_RPC_URL)\n",
    "    except ValueError as e:\n",
    "        raise ValueError(f\"Invalid JSON_RPC URL: {JSON_RPC_URL}\") from e\n",
    "\n",
    "\n",
    "def main():\n",
    "    setup_console_logging()\n",
    "\n",
    "    token_cache = TokenDiskCache()\n",
    "\n",
    "    # How many CPUs / subprocess we use\n",
    "    max_workers = 1\n",
    "    # max_workers = 1  # To debug, set workers to 1\n",
    "\n",
    "    web3 = create_multi_provider_web3(JSON_RPC_URL)\n",
    "    web3factory = MultiProviderWeb3Factory(JSON_RPC_URL, retries=5)\n",
    "    name = get_chain_name(web3.eth.chain_id)\n",
    "\n",
    "    min_deposit_threshold = 5\n",
    "\n",
    "    start_block = 1\n",
    "    end_block = os.environ.get(\"END_BLOCK\")\n",
    "    if end_block is None:\n",
    "        end_block = web3.eth.block_number\n",
    "    else:\n",
    "        end_block = int(end_block)\n",
    "\n",
    "    chain_id = web3.eth.chain_id\n",
    "\n",
    "    # output_folder = os.environ.get(\"OUTPUT_FOLDER\")\n",
    "    # if output_folder is None:\n",
    "    #     output_folder = Path(\"~/.tradingstrategy/vaults\").expanduser()\n",
    "    # else:\n",
    "    #     output_folder = Path(output_folder).expanduser()\n",
    "\n",
    "    # vault_db_fname = Path(f\"{output_folder}/vault-db.pickle\")\n",
    "    # price_parquet_fname = output_folder / \"vault-prices.parquet\"\n",
    "\n",
    "    output_folder = os.environ.get(\"OUTPUT_FOLDER\")\n",
    "    if output_folder is None:\n",
    "        output_folder = Path(\"/Users/olaoluwatunmise/stablecoin_vaults/database\").expanduser()\n",
    "    else:\n",
    "        output_folder = Path(output_folder).expanduser()\n",
    "    \n",
    "    vault_db_fname = Path(f\"{output_folder}/vault-db.pickle\")\n",
    "    price_parquet_fname = output_folder / \"vault-prices.parquet\"\n",
    "\n",
    "    os.makedirs(output_folder, exist_ok=True)\n",
    "\n",
    "\n",
    "    print(f\"Scanning vault historical prices on chain {web3.eth.chain_id}: {name}\")\n",
    "\n",
    "    assert vault_db_fname.exists(), f\"File {vault_db_fname} does not exist - run scan-vaults.py first\"\n",
    "\n",
    "    vault_db = pickle.load(vault_db_fname.open(\"rb\"))\n",
    "\n",
    "    chain_vaults = [v for v in vault_db.values() if v[\"_detection_data\"].chain == chain_id]\n",
    "    print(f\"Chain {name} has {len(chain_vaults):,} vaults in the vault detection database\")\n",
    "\n",
    "    if len(chain_vaults) == 0:\n",
    "        print(f\"No vaults on chain {name}\")\n",
    "        sys.exit(0)\n",
    "\n",
    "    vaults = []\n",
    "    #start = 999_999_999_999\n",
    "    start = end_block - 100  # Smaller time range\n",
    "\n",
    "    for row in chain_vaults:\n",
    "        detection: ERC4262VaultDetection\n",
    "        detection = row[\"_detection_data\"]\n",
    "        address = detection.address\n",
    "\n",
    "        if detection.deposit_count < min_deposit_threshold:\n",
    "            # print(f\"Vault does not have enough deposits: {address}, has: {detection.deposit_count}, threshold {min_deposit_threshold}\")\n",
    "            continue\n",
    "\n",
    "        vault = create_vault_instance(web3, address, detection.features, token_cache=token_cache)\n",
    "        if vault is not None:\n",
    "            vault.first_seen_at_block = detection.first_seen_at_block\n",
    "            vaults.append(vault)\n",
    "            start = min(start, detection.first_seen_at_block)\n",
    "        else:\n",
    "            # print(f\"Vault does not have a supported reader: {address}\")\n",
    "            pass\n",
    "\n",
    "         # Or reduce number of vaults\n",
    "        vaults = vaults[:10]  # Only first 10 vaults\n",
    "        #chunk_size = 8  \n",
    "\n",
    "    print(f\"After filtering vaults for non-interesting entries, we have {len(vaults):,} vaults left\")\n",
    "\n",
    "    scan_result = scan_historical_prices_to_parquet(\n",
    "        output_fname=price_parquet_fname,\n",
    "        web3=web3,\n",
    "        web3factory=web3factory,\n",
    "        vaults=vaults,\n",
    "        start_block=start,\n",
    "        end_block=end_block,\n",
    "        max_workers=max_workers,\n",
    "        chunk_size=32,\n",
    "        token_cache=token_cache,\n",
    "    )\n",
    "\n",
    "    token_cache.commit()\n",
    "    print(f\"Token cache size is {token_cache.get_file_size():,} bytes, {len(token_cache):,} tokens\")\n",
    "    print(\"Scan complete\")\n",
    "    print(pformat(scan_result))\n",
    "\n",
    "\n",
    "if __name__ == \"__main__\":\n",
    "    main()"
   ]
  },
  {
   "cell_type": "markdown",
   "id": "8a4f0b96",
   "metadata": {},
   "source": [
    "### Load the price data"
   ]
  },
  {
   "cell_type": "code",
   "execution_count": 3,
   "id": "3195a0e1",
   "metadata": {},
   "outputs": [
    {
     "name": "stdout",
     "output_type": "stream",
     "text": [
      "Loaded 11469 price records\n",
      "   chain                                     address  block_number  \\\n",
      "0      1  0x48f8d7943899d9b4f34ccb5ba1b92695433226e8      14521099   \n",
      "1      1  0x48f8d7943899d9b4f34ccb5ba1b92695433226e8      14528299   \n",
      "2      1  0x48f8d7943899d9b4f34ccb5ba1b92695433226e8      14535499   \n",
      "3      1  0xb78ebb2248bb72380e690246f9631cf58c07b444      14535499   \n",
      "4      1  0xa066620554af0d50703e5ee3c58c022c6ae5339d      14535499   \n",
      "\n",
      "            timestamp  share_price  total_assets  total_supply  \\\n",
      "0 2022-04-04 18:17:15          1.0      0.300000      0.300000   \n",
      "1 2022-04-05 21:17:13          1.0      0.300000      0.300000   \n",
      "2 2022-04-07 00:16:14          1.0      0.357827      0.357827   \n",
      "3 2022-04-07 00:16:14          1.0      0.050000      0.050000   \n",
      "4 2022-04-07 00:16:14          1.0      0.050000      0.050000   \n",
      "\n",
      "   performance_fee  management_fee errors  \n",
      "0              NaN             NaN         \n",
      "1              NaN             NaN         \n",
      "2              NaN             NaN         \n",
      "3              NaN             NaN         \n",
      "4              NaN             NaN         \n"
     ]
    }
   ],
   "source": [
    "import pandas as pd\n",
    "\n",
    "# Load the price data\n",
    "prices_df = pd.read_parquet('/Users/olaoluwatunmise/stablecoin_vaults/database/vault-prices.parquet')\n",
    "print(f\"Loaded {len(prices_df)} price records\")\n",
    "print(prices_df.head())"
   ]
  },
  {
   "cell_type": "code",
   "execution_count": null,
   "id": "44c564fd",
   "metadata": {},
   "outputs": [],
   "source": []
  }
 ],
 "metadata": {
  "kernelspec": {
   "display_name": "vaults",
   "language": "python",
   "name": "python3"
  },
  "language_info": {
   "codemirror_mode": {
    "name": "ipython",
    "version": 3
   },
   "file_extension": ".py",
   "mimetype": "text/x-python",
   "name": "python",
   "nbconvert_exporter": "python",
   "pygments_lexer": "ipython3",
   "version": "3.10.17"
  }
 },
 "nbformat": 4,
 "nbformat_minor": 5
}
